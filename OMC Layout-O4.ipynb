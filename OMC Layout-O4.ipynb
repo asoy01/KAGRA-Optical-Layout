{
 "cells": [
  {
   "cell_type": "markdown",
   "metadata": {
    "toc-hr-collapsed": false
   },
   "source": [
    "# OMC optical layout for O4"
   ]
  },
  {
   "cell_type": "markdown",
   "metadata": {},
   "source": [
    "## Import modules"
   ]
  },
  {
   "cell_type": "code",
   "execution_count": 1,
   "metadata": {},
   "outputs": [],
   "source": [
    "import gtrace\n",
    "import gtrace.beam as beam\n",
    "import gtrace.optcomp as opt\n",
    "import gtrace.optics.gaussian as gauss\n",
    "import gtrace.draw as draw\n",
    "import gtrace.draw.renderer as renderer\n",
    "import gtrace.draw.tools as tools\n",
    "from gtrace.unit import *\n",
    "from gtrace.optics.geometric import vector_normalize as normalize\n",
    "from gtrace.optics.geometric import vector_rotation_2D\n",
    "from gtrace.nonsequential import non_seq_trace\n",
    "\n",
    "import scipy.optimize as sopt\n",
    "\n",
    "import _pickle"
   ]
  },
  {
   "cell_type": "markdown",
   "id": "96c639e5",
   "metadata": {},
   "source": [
    "## Units"
   ]
  },
  {
   "cell_type": "code",
   "execution_count": 2,
   "id": "a5c9b04f",
   "metadata": {},
   "outputs": [],
   "source": [
    "ppm = 1e-6\n",
    "nm = 1e-9\n",
    "m = 1\n",
    "percent = 0.01\n",
    "\n",
    "MHz = 1e6\n",
    "\n",
    "from scipy.constants import c"
   ]
  },
  {
   "cell_type": "markdown",
   "metadata": {},
   "source": [
    "## Parameters"
   ]
  },
  {
   "cell_type": "code",
   "execution_count": 3,
   "metadata": {},
   "outputs": [],
   "source": [
    "OBS3_curved = True\n",
    "\n",
    "OMC1_HR_Refl = 0.996\n",
    "OMC3_HR_Refl = 99.996*percent\n",
    "nsilica = 1.44967\n",
    "Roc = 1.8\n",
    "AOI = deg2rad(3.0)"
   ]
  },
  {
   "cell_type": "markdown",
   "id": "df17ba16",
   "metadata": {},
   "source": [
    "## Utility Functions"
   ]
  },
  {
   "cell_type": "code",
   "execution_count": 4,
   "id": "cdf04395",
   "metadata": {},
   "outputs": [],
   "source": [
    "def align_OMC():\n",
    "    '''\n",
    "    Given OMC mirrors, adjust their orientations to form a cavity.\n",
    "    '''\n",
    "    v1 = OMC2.HRcenter - OMC1.HRcenter\n",
    "    v1 = v1/np.linalg.norm(v1)\n",
    "    v2 = OMC4.HRcenter - OMC1.HRcenter\n",
    "    v2 = v2/np.linalg.norm(v2)\n",
    "    OMC1.normVectHR = (v1+v2)/2\n",
    "\n",
    "    v1 = OMC1.HRcenter - OMC2.HRcenter\n",
    "    v1 = v1/np.linalg.norm(v1)\n",
    "    v2 = OMC3.HRcenter - OMC2.HRcenter\n",
    "    v2 = v2/np.linalg.norm(v2)\n",
    "    OMC2.normVectHR = (v1+v2)/2\n",
    "\n",
    "    v1 = OMC2.HRcenter - OMC3.HRcenter\n",
    "    v1 = v1/np.linalg.norm(v1)\n",
    "    v2 = OMC4.HRcenter - OMC3.HRcenter\n",
    "    v2 = v2/np.linalg.norm(v2)\n",
    "    OMC3.normVectHR = (v1+v2)/2\n",
    "\n",
    "    v1 = OMC1.HRcenter - OMC4.HRcenter\n",
    "    v1 = v1/np.linalg.norm(v1)\n",
    "    v2 = OMC3.HRcenter - OMC4.HRcenter\n",
    "    v2 = v2/np.linalg.norm(v2)\n",
    "    OMC4.normVectHR = (v1+v2)/2"
   ]
  },
  {
   "cell_type": "code",
   "execution_count": 5,
   "id": "7bae5ffb",
   "metadata": {},
   "outputs": [],
   "source": [
    "def OMC_eigen_mode():\n",
    "    '''\n",
    "    Compute the eigen mode of the OMC.\n",
    "    Returns the q-parameters and a beam object of the obtained eigen mode at the HR surface of OMC1.\n",
    "    '''\n",
    "    q0 = gauss.Rw2q(np.inf, 410*um)\n",
    "    b = beam.GaussianBeam(q0=q0, wl=1064*nm)\n",
    "\n",
    "    v1 = OMC2.HRcenter - OMC1.HRcenter\n",
    "    b.pos = OMC1.HRcenter\n",
    "    b.dirVect = v1\n",
    "    \n",
    "    beams = OMC2.hitFromHR(b, order=1)\n",
    "    b = beams['r1']\n",
    "    \n",
    "    beams = OMC3.hitFromHR(b, order=1)\n",
    "    b = beams['r1']    \n",
    "\n",
    "    beams = OMC4.hitFromHR(b, order=1)\n",
    "    b = beams['r1']\n",
    "\n",
    "    beams = OMC1.hitFromHR(b, order=1)\n",
    "    b = beams['r1']    \n",
    "    \n",
    "    #Eigenmode\n",
    "    M = b.Mx\n",
    "    A = M[0,0]\n",
    "    B = M[0,1]\n",
    "    C = M[1,0]\n",
    "    D = M[1,1]\n",
    "    qOMCx = 1.0/((D-A)/(2*B)-1j*np.sqrt(4-(A+D)**2)/(2*B))\n",
    "\n",
    "    M = b.My\n",
    "    A = M[0,0]\n",
    "    B = M[0,1]\n",
    "    C = M[1,0]\n",
    "    D = M[1,1]\n",
    "    qOMCy = 1.0/((D-A)/(2*B)-1j*np.sqrt(4-(A+D)**2)/(2*B))\n",
    "\n",
    "    # Propagate the eigenmode through the OMC\n",
    "    v1 = OMC2.HRcenter - OMC1.HRcenter\n",
    "    b = beam.GaussianBeam(q0x=qOMCx, q0y=qOMCy, wl=1064*nm, pos=OMC1.HRcenter, dirVect=v1)\n",
    "\n",
    "    beams = OMC2.hitFromHR(b, order=1)\n",
    "    b = beams['r1']\n",
    "    \n",
    "    beams = OMC3.hitFromHR(b, order=1)\n",
    "    b = beams['r1']    \n",
    "\n",
    "    beams = OMC4.hitFromHR(b, order=1)\n",
    "    b = beams['r1']\n",
    "\n",
    "    beams = OMC1.hitFromHR(b, order=1)\n",
    "    b = beams['r1']    \n",
    "    \n",
    "    return (qOMCx, qOMCy, b)"
   ]
  },
  {
   "cell_type": "code",
   "execution_count": 6,
   "id": "8fa3089d",
   "metadata": {},
   "outputs": [],
   "source": [
    "def OMC_beams():\n",
    "    '''\n",
    "    Propagate the eigen mode beam in the OMC and returns a dictionary containing beam objects in the OMC.\n",
    "    '''\n",
    "\n",
    "    beam_dict = {}\n",
    "\n",
    "    (qOMCx, qOMCy, b) = OMC_eigen_mode()\n",
    "\n",
    "    beams = OMC2.hitFromHR(b, order=1)\n",
    "    b = beams['r1']\n",
    "\n",
    "    beam_dict['OMC1_to_OMC2'] = beams['input']\n",
    "    \n",
    "    beams = OMC3.hitFromHR(b, order=1)\n",
    "    b = beams['r1']   \n",
    "\n",
    "    beam_dict['OMC2_to_OMC3'] = beams['input']\n",
    "\n",
    "    beams = OMC4.hitFromHR(b, order=1)\n",
    "    b = beams['r1']\n",
    "    beam_dict['OMC3_to_OMC4'] = beams['input']\n",
    "\n",
    "    beams = OMC1.hitFromHR(b, order=1)\n",
    "    b = beams['r1']   \n",
    "    beam_dict['OMC4_to_OMC1'] = beams['input'] \n",
    "    beam_dict['OMC1_refl_s1'] = beams['s1']\n",
    "    beam_dict['OMC1_refl_t1'] = beams['t1']\n",
    "\n",
    "    # OMC input path\n",
    "    b =  beam_dict['OMC1_to_OMC2'].copy()\n",
    "    b.propagate(0.1)\n",
    "    b.flip()\n",
    "    beams = OMC1.hitFromHR(b)\n",
    "    beam_dict['OMC1_input_reverse'] = beams['t1'].copy()\n",
    "    b = beams['t1'].copy()\n",
    "    b.propagate(0.1)\n",
    "    b.flip()\n",
    "    beams = OMC1.hitFromAR(b)\n",
    "\n",
    "    beam_dict['OMC1_input'] = beams['input']\n",
    "    beam_dict['OMC1_input_s1'] = beams['s1']\n",
    "    \n",
    "    return beam_dict"
   ]
  },
  {
   "cell_type": "markdown",
   "metadata": {},
   "source": [
    "## Define mirrors"
   ]
  },
  {
   "cell_type": "code",
   "execution_count": 7,
   "metadata": {},
   "outputs": [],
   "source": [
    "OMC1 = opt.Mirror(HRcenter=[0,0], normAngleHR=0.0,\n",
    "                 diameter=12.7*mm, thickness=6.290147*mm,\n",
    "                 wedgeAngle=deg2rad(1), inv_ROC_HR=0.,\n",
    "                 inv_ROC_AR=0.,\n",
    "                 Refl_HR=OMC1_HR_Refl, Trans_HR=1-OMC1_HR_Refl,\n",
    "                 Refl_AR=0.1*percent, Trans_AR=1-0.1*percent,\n",
    "                 n=nsilica, name='OMC1', HRtransmissive=True)\n",
    "\n",
    "OMC2 = opt.Mirror(HRcenter=[0,0], normAngleHR=0.0,\n",
    "                 diameter=12.7*mm, thickness=6.290147*mm,\n",
    "                 wedgeAngle=-deg2rad(1), inv_ROC_HR=0.,\n",
    "                 inv_ROC_AR=0.,\n",
    "                 Refl_HR=OMC1_HR_Refl, Trans_HR=1-OMC1_HR_Refl,\n",
    "                 Refl_AR=0.1*percent, Trans_AR=1-0.1*percent,\n",
    "                 n=nsilica, name='OMC2', HRtransmissive=True)\n",
    "\n",
    "OMC3 = opt.Mirror(HRcenter=[0,0], normAngleHR=0.0,\n",
    "                 diameter=12.7*mm, thickness=6.4*mm,\n",
    "                 wedgeAngle=0., inv_ROC_HR=1/Roc,\n",
    "                 inv_ROC_AR=0.,\n",
    "                 Refl_HR=OMC3_HR_Refl, Trans_HR=1-OMC3_HR_Refl,\n",
    "                 Refl_AR=0.1*percent, Trans_AR=1-0.1*percent,\n",
    "                 n=nsilica, name='OMC3', HRtransmissive=True)\n",
    "\n",
    "OMC4 = opt.Mirror(HRcenter=[0,0], normAngleHR=0.0,\n",
    "                 diameter=12.7*mm, thickness=6.4*mm,\n",
    "                 wedgeAngle=0., inv_ROC_HR=1/Roc,\n",
    "                 inv_ROC_AR=0.,\n",
    "                 Refl_HR=OMC3_HR_Refl, Trans_HR=1-OMC3_HR_Refl,\n",
    "                 Refl_AR=0.1*percent, Trans_AR=1-0.1*percent,\n",
    "                 n=nsilica, name='OMC4', HRtransmissive=True)\n"
   ]
  },
  {
   "cell_type": "markdown",
   "metadata": {},
   "source": [
    "## Place the mirrors"
   ]
  },
  {
   "cell_type": "code",
   "execution_count": 8,
   "metadata": {},
   "outputs": [],
   "source": [
    "OMC_origin = np.array([32*mm, -67*mm])\n",
    "\n",
    "OMC1_rel_pos = np.array([0., 0.])\n",
    "OMC2_rel_pos = np.array([0., -0.357])\n",
    "OMC3_rel_pos = np.array([0.0378945906, 0.011])\n",
    "OMC4_rel_pos = np.array([0.0378945906, -0.368])\n"
   ]
  },
  {
   "cell_type": "code",
   "execution_count": 9,
   "metadata": {},
   "outputs": [],
   "source": [
    "OMC1.HRcenter = OMC1_rel_pos + OMC_origin\n",
    "OMC2.HRcenter = OMC2_rel_pos + OMC_origin\n",
    "OMC3.HRcenter = OMC3_rel_pos + OMC_origin\n",
    "OMC4.HRcenter = OMC4_rel_pos + OMC_origin"
   ]
  },
  {
   "cell_type": "code",
   "execution_count": 10,
   "metadata": {},
   "outputs": [],
   "source": [
    "align_OMC()"
   ]
  },
  {
   "cell_type": "markdown",
   "metadata": {},
   "source": [
    "## OMC eigen mode"
   ]
  },
  {
   "cell_type": "code",
   "execution_count": 11,
   "metadata": {},
   "outputs": [],
   "source": [
    "(qOMCx, qOMCy, b) = OMC_eigen_mode()"
   ]
  },
  {
   "cell_type": "markdown",
   "metadata": {},
   "source": [
    "## OMC beams"
   ]
  },
  {
   "cell_type": "code",
   "execution_count": 12,
   "metadata": {},
   "outputs": [],
   "source": [
    "beam_dict = OMC_beams()\n",
    "del beam_dict['OMC1_input']"
   ]
  },
  {
   "cell_type": "markdown",
   "metadata": {},
   "source": [
    "# Outside of the OMC"
   ]
  },
  {
   "cell_type": "markdown",
   "metadata": {},
   "source": [
    "## Define steering mirrors"
   ]
  },
  {
   "cell_type": "code",
   "execution_count": 13,
   "metadata": {},
   "outputs": [],
   "source": [
    "OBS1_HR_Refl = 99.5*percent\n",
    "OBS2_HR_Refl = 50*percent\n",
    "OBS3_HR_Refl = 99.*percent\n",
    "OBS4_HR_Refl = 50*percent\n",
    "OBS5_HR_Refl = 99.95*percent\n",
    "QPSTM1_HR_Refl = 99.95*percent\n",
    "QPSTM2_HR_Refl = 99.95*percent\n",
    "\n",
    "OBS3_ROC = 600*mm\n",
    "\n",
    "\n",
    "OBS1 = opt.Mirror(HRcenter=[0,0], normAngleHR=0.0,\n",
    "                 diameter=40*mm, thickness=10*mm,\n",
    "                 wedgeAngle=deg2rad(0), inv_ROC_HR=0.,\n",
    "                 inv_ROC_AR=0.,\n",
    "                 Refl_HR=OBS1_HR_Refl, Trans_HR=1-OBS1_HR_Refl,\n",
    "                 Refl_AR=0.2*percent, Trans_AR=1-0.2*percent,\n",
    "                 n=nsilica, name='OBS1', HRtransmissive=True)\n",
    "\n",
    "\n",
    "OBS2 = opt.Mirror(HRcenter=[0,0], normAngleHR=0.0,\n",
    "                 diameter=20*mm, thickness=8*mm,\n",
    "                 wedgeAngle=deg2rad(-1), inv_ROC_HR=0.,\n",
    "                 inv_ROC_AR=0.,\n",
    "                 Refl_HR=OBS2_HR_Refl, Trans_HR=1-OBS2_HR_Refl,\n",
    "                 Refl_AR=0.2*percent, Trans_AR=1-0.2*percent,\n",
    "                 n=nsilica, name='OBS2', HRtransmissive=True)\n",
    "\n",
    "OBS3 = opt.Mirror(HRcenter=[0,0], normAngleHR=0.0,\n",
    "                    diameter=12.7*mm, thickness=6.35*mm,\n",
    "                    wedgeAngle=deg2rad(0), inv_ROC_HR=1/OBS3_ROC,\n",
    "                    inv_ROC_AR=0.,\n",
    "                    Refl_HR=OBS3_HR_Refl, Trans_HR=1-OBS3_HR_Refl,\n",
    "                    Refl_AR=1.*percent, Trans_AR=1-1.*percent,\n",
    "                    n=nsilica, name='OBS3', HRtransmissive=True)\n",
    "\n",
    "OBS4 = opt.Mirror(HRcenter=[0,0], normAngleHR=0.0,\n",
    "                 diameter=20*mm, thickness=8*mm,\n",
    "                 wedgeAngle=deg2rad(-1), inv_ROC_HR=0.,\n",
    "                 inv_ROC_AR=0.,\n",
    "                 Refl_HR=OBS4_HR_Refl, Trans_HR=1-OBS4_HR_Refl,\n",
    "                 Refl_AR=0.2*percent, Trans_AR=1-0.2*percent,\n",
    "                 n=nsilica, name='OBS4', HRtransmissive=True)\n",
    "\n",
    "OBS5 = opt.Mirror(HRcenter=[0,0], normAngleHR=0.0,\n",
    "                 diameter=20*mm, thickness=8*mm,\n",
    "                 wedgeAngle=deg2rad(0), inv_ROC_HR=0.,\n",
    "                 inv_ROC_AR=0.,\n",
    "                 Refl_HR=OBS5_HR_Refl, Trans_HR=1-OBS5_HR_Refl,\n",
    "                 Refl_AR=0.2*percent, Trans_AR=1-0.2*percent,\n",
    "                 n=nsilica, name='OBS5', HRtransmissive=True)\n",
    "\n",
    "QPSTM1 = opt.Mirror(HRcenter=[0,0], normAngleHR=0.0,\n",
    "                 diameter=20*mm, thickness=8*mm,\n",
    "                 wedgeAngle=deg2rad(0), inv_ROC_HR=0.,\n",
    "                 inv_ROC_AR=0.,\n",
    "                 Refl_HR=QPSTM1_HR_Refl, Trans_HR=1-QPSTM1_HR_Refl,\n",
    "                 Refl_AR=0.2*percent, Trans_AR=1-0.2*percent,\n",
    "                 n=nsilica, name='QPSTM1', HRtransmissive=True)\n",
    "\n",
    "QPSTM2 = opt.Mirror(HRcenter=[0,0], normAngleHR=0.0,\n",
    "                 diameter=20*mm, thickness=8*mm,\n",
    "                 wedgeAngle=deg2rad(0), inv_ROC_HR=0.,\n",
    "                 inv_ROC_AR=0.,\n",
    "                 Refl_HR=QPSTM2_HR_Refl, Trans_HR=1-QPSTM2_HR_Refl,\n",
    "                 Refl_AR=0.2*percent, Trans_AR=1-0.2*percent,\n",
    "                 n=nsilica, name='QPSTM2', HRtransmissive=True)\n"
   ]
  },
  {
   "cell_type": "markdown",
   "metadata": {},
   "source": [
    "## Define beam dumps"
   ]
  },
  {
   "cell_type": "code",
   "execution_count": 14,
   "metadata": {},
   "outputs": [],
   "source": [
    "BD1 = opt.Mirror(HRcenter=[0,0], normAngleHR=0.0,\n",
    "                 diameter=25*mm, thickness=3*mm,\n",
    "                 wedgeAngle=deg2rad(0), inv_ROC_HR=0,\n",
    "                 inv_ROC_AR=0.,\n",
    "                 Refl_HR=5*percent, Trans_HR=1*percent,\n",
    "                 Refl_AR=1*percent, Trans_AR=1*percent,\n",
    "                 n=nsilica, name='BD1', HRtransmissive=True)\n",
    "\n",
    "BD2 = opt.Mirror(HRcenter=[0,0], normAngleHR=0.0,\n",
    "                 diameter=25*mm, thickness=3*mm,\n",
    "                 wedgeAngle=deg2rad(0), inv_ROC_HR=0,\n",
    "                 inv_ROC_AR=0.,\n",
    "                 Refl_HR=5*percent, Trans_HR=1*percent,\n",
    "                 Refl_AR=1*percent, Trans_AR=1*percent,\n",
    "                 n=nsilica, name='BD2', HRtransmissive=True)\n",
    "\n",
    "BD3 = opt.Mirror(HRcenter=[0,0], normAngleHR=0.0,\n",
    "                 diameter=25*mm, thickness=3*mm,\n",
    "                 wedgeAngle=deg2rad(0), inv_ROC_HR=0,\n",
    "                 inv_ROC_AR=0.,\n",
    "                 Refl_HR=5*percent, Trans_HR=1*percent,\n",
    "                 Refl_AR=1*percent, Trans_AR=1*percent,\n",
    "                 n=nsilica, name='BD3', HRtransmissive=True)\n",
    "\n",
    "BD4 = opt.Mirror(HRcenter=[0,0], normAngleHR=0.0,\n",
    "                 diameter=25*mm, thickness=3*mm,\n",
    "                 wedgeAngle=deg2rad(0), inv_ROC_HR=0,\n",
    "                 inv_ROC_AR=0.,\n",
    "                 Refl_HR=5*percent, Trans_HR=1*percent,\n",
    "                 Refl_AR=1*percent, Trans_AR=1*percent,\n",
    "                 n=nsilica, name='BD4', HRtransmissive=True)\n",
    "\n",
    "BD5 = opt.Mirror(HRcenter=[0,0], normAngleHR=0.0,\n",
    "                 diameter=25*mm, thickness=3*mm,\n",
    "                 wedgeAngle=deg2rad(0), inv_ROC_HR=0,\n",
    "                 inv_ROC_AR=0.,\n",
    "                 Refl_HR=5*percent, Trans_HR=1*percent,\n",
    "                 Refl_AR=1*percent, Trans_AR=1*percent,\n",
    "                 n=nsilica, name='BD5', HRtransmissive=True)\n",
    "\n",
    "BD6 = opt.Mirror(HRcenter=[0,0], normAngleHR=0.0,\n",
    "                 diameter=25*mm, thickness=3*mm,\n",
    "                 wedgeAngle=deg2rad(0), inv_ROC_HR=0,\n",
    "                 inv_ROC_AR=0.,\n",
    "                 Refl_HR=5*percent, Trans_HR=1*percent,\n",
    "                 Refl_AR=1*percent, Trans_AR=1*percent,\n",
    "                 n=nsilica, name='BD6', HRtransmissive=True)\n",
    "\n",
    "BD7 = opt.Mirror(HRcenter=[0,0], normAngleHR=0.0,\n",
    "                 diameter=25*mm, thickness=3*mm,\n",
    "                 wedgeAngle=deg2rad(0), inv_ROC_HR=0,\n",
    "                 inv_ROC_AR=0.,\n",
    "                 Refl_HR=5*percent, Trans_HR=1*percent,\n",
    "                 Refl_AR=1*percent, Trans_AR=1*percent,\n",
    "                 n=nsilica, name='BD7', HRtransmissive=True)\n",
    "\n",
    "BD8 = opt.Mirror(HRcenter=[0,0], normAngleHR=0.0,\n",
    "                 diameter=25*mm, thickness=3*mm,\n",
    "                 wedgeAngle=deg2rad(0), inv_ROC_HR=0,\n",
    "                 inv_ROC_AR=0.,\n",
    "                 Refl_HR=5*percent, Trans_HR=1*percent,\n",
    "                 Refl_AR=1*percent, Trans_AR=1*percent,\n",
    "                 n=nsilica, name='BD8', HRtransmissive=True)\n",
    "\n",
    "BD9 = opt.Mirror(HRcenter=[0,0], normAngleHR=0.0,\n",
    "                 diameter=25*mm, thickness=3*mm,\n",
    "                 wedgeAngle=deg2rad(0), inv_ROC_HR=0,\n",
    "                 inv_ROC_AR=0.,\n",
    "                 Refl_HR=5*percent, Trans_HR=1*percent,\n",
    "                 Refl_AR=1*percent, Trans_AR=1*percent,\n",
    "                 n=nsilica, name='BD9', HRtransmissive=True)\n",
    "\n",
    "BD10 = opt.Mirror(HRcenter=[0,0], normAngleHR=0.0,\n",
    "                 diameter=25*mm, thickness=3*mm,\n",
    "                 wedgeAngle=deg2rad(0), inv_ROC_HR=0,\n",
    "                 inv_ROC_AR=0.,\n",
    "                 Refl_HR=5*percent, Trans_HR=1*percent,\n",
    "                 Refl_AR=1*percent, Trans_AR=1*percent,\n",
    "                 n=nsilica, name='BD10', HRtransmissive=True)"
   ]
  },
  {
   "cell_type": "markdown",
   "metadata": {},
   "source": [
    "## Define PDs"
   ]
  },
  {
   "cell_type": "code",
   "execution_count": 15,
   "metadata": {},
   "outputs": [],
   "source": [
    "DCPD1 = opt.Mirror(HRcenter=[0,0], normAngleHR=0.0,\n",
    "                 diameter=3*mm, thickness=1*mm,\n",
    "                 wedgeAngle=deg2rad(0), inv_ROC_HR=0.,\n",
    "                 inv_ROC_AR=0.,\n",
    "                 Refl_HR=5*percent, Trans_HR=0,\n",
    "                 Refl_AR=0.2*percent, Trans_AR=1-0.2*percent,\n",
    "                 n=nsilica, name='DCPD1', HRtransmissive=False)\n",
    "\n",
    "DCPD2 = opt.Mirror(HRcenter=[0,0], normAngleHR=0.0,\n",
    "                 diameter=3*mm, thickness=1*mm,\n",
    "                 wedgeAngle=deg2rad(0), inv_ROC_HR=0.,\n",
    "                 inv_ROC_AR=0.,\n",
    "                 Refl_HR=5*percent, Trans_HR=0,\n",
    "                 Refl_AR=0.2*percent, Trans_AR=1-0.2*percent,\n",
    "                 n=nsilica, name='DCPD2', HRtransmissive=False)\n",
    "\n",
    "QPD1 = opt.Mirror(HRcenter=[0,0], normAngleHR=0.0,\n",
    "                 diameter=10*mm, thickness=3*mm,\n",
    "                 wedgeAngle=deg2rad(0), inv_ROC_HR=0.,\n",
    "                 inv_ROC_AR=0.,\n",
    "                 Refl_HR=5*percent, Trans_HR=0,\n",
    "                 Refl_AR=0.2*percent, Trans_AR=1-0.2*percent,\n",
    "                 n=nsilica, name='QPD1', HRtransmissive=False)\n",
    "\n",
    "QPD2 = opt.Mirror(HRcenter=[0,0], normAngleHR=0.0,\n",
    "                 diameter=10*mm, thickness=3*mm,\n",
    "                 wedgeAngle=deg2rad(0), inv_ROC_HR=0.,\n",
    "                 inv_ROC_AR=0.,\n",
    "                 Refl_HR=5*percent, Trans_HR=0,\n",
    "                 Refl_AR=0.2*percent, Trans_AR=1-0.2*percent,\n",
    "                 n=nsilica, name='QPD2', HRtransmissive=False)"
   ]
  },
  {
   "cell_type": "markdown",
   "metadata": {},
   "source": [
    "## Put OBS1"
   ]
  },
  {
   "cell_type": "code",
   "execution_count": 16,
   "metadata": {},
   "outputs": [],
   "source": [
    "OBS1.HRcenter = [32.*mm, -30.5*mm]\n",
    "OBS1.normAngleHR = deg2rad(-134.6)"
   ]
  },
  {
   "cell_type": "code",
   "execution_count": 17,
   "metadata": {},
   "outputs": [
    {
     "name": "stdout",
     "output_type": "stream",
     "text": [
      "-0.013125158758296451\n",
      "[-0.31698385  0.13749209]\n"
     ]
    }
   ],
   "source": [
    "# Check the incident beam angle and position to the OMC breadboard from outside \n",
    "# These numbers should be roughly the same as before.\n",
    "\n",
    "b = beam_dict['OMC1_input_reverse']\n",
    "beams = OBS1.hitFromHR(b)\n",
    "b = beams['r1']\n",
    "print((rad2deg(b.dirAngle)-180-1.277499)/2)\n",
    "print(b.pos*1000 - np.array([32.453522, -30.772137]))\n"
   ]
  },
  {
   "cell_type": "markdown",
   "metadata": {},
   "source": [
    "## Prepare input beam to the OMC BB"
   ]
  },
  {
   "cell_type": "code",
   "execution_count": 18,
   "metadata": {},
   "outputs": [],
   "source": [
    "b = beam_dict['OMC1_input_reverse']\n",
    "beams = OBS1.hitFromHR(b)\n",
    "b = beams['r1']\n",
    "b.propagate(1)\n",
    "b.flip()\n",
    "b.P = 1.0\n",
    "\n",
    "beams = OBS1.hitFromHR(b)\n",
    "beam_dict['Input_to_OMC_BB'] = beams['input']\n",
    "\n",
    "b = beams['r1']\n",
    "beams = OMC1.hitFromAR(b)\n",
    "beam_dict['OBS1_to_OMC1'] = beams['input']\n",
    "\n",
    "del beam_dict['OMC1_input_reverse']\n"
   ]
  },
  {
   "cell_type": "markdown",
   "metadata": {},
   "source": [
    "## OMC REFL path"
   ]
  },
  {
   "cell_type": "code",
   "execution_count": 19,
   "metadata": {},
   "outputs": [],
   "source": [
    "b = beam_dict['OMC1_refl_t1']\n",
    "beams = OBS1.hitFromHR(b)\n",
    "beam_dict['OMC1_to_OBS1_REFL'] = beams['input']\n",
    "b = beams['r1']\n",
    "b.length = 1.0\n",
    "beam_dict['OBS1_to_REFL'] = b\n",
    "\n",
    "del beam_dict['OMC1_refl_t1']"
   ]
  },
  {
   "cell_type": "markdown",
   "metadata": {},
   "source": [
    "## Beam path for QPD"
   ]
  },
  {
   "cell_type": "markdown",
   "metadata": {},
   "source": [
    "### Put OBS2, QPSTM1, QPSTM2"
   ]
  },
  {
   "cell_type": "code",
   "execution_count": 20,
   "metadata": {},
   "outputs": [],
   "source": [
    "OBS2.HRcenter = [127*mm, -28*mm]\n",
    "OBS2.normAngleHR = deg2rad(-133)\n",
    "QPSTM1.HRcenter = [134*mm, -227*mm]\n",
    "QPSTM1.normAngleHR = deg2rad(82.401502)\n",
    "QPSTM2.HRcenter = [174*mm, -82*mm]\n",
    "QPSTM2.normAngleHR = deg2rad(-97.598498)"
   ]
  },
  {
   "cell_type": "markdown",
   "metadata": {},
   "source": [
    "### Adjust the angle of OBS2 iteratively"
   ]
  },
  {
   "cell_type": "code",
   "execution_count": 21,
   "metadata": {},
   "outputs": [
    {
     "name": "stdout",
     "output_type": "stream",
     "text": [
      "1.234568003383174e-13\n"
     ]
    }
   ],
   "source": [
    "b = beam_dict['Input_to_OMC_BB'].copy()\n",
    "\n",
    "beams = OBS1.hitFromHR(b)\n",
    "beam_dict['OBS1_s1'] = beams['s1']\n",
    "beam_to_OBS2 = beams['t1']\n",
    "\n",
    "\n",
    "for ii in range(6):\n",
    "    beams = OBS2.hitFromHR(beam_to_OBS2)\n",
    "    b = beams['r1']\n",
    "\n",
    "    v1 = normalize(QPSTM1.HRcenter - b.pos)\n",
    "\n",
    "    dtheta = b.dirAngle - (np.arctan(v1[1]/v1[0])+2*pi)\n",
    "\n",
    "    OBS2.normAngleHR = OBS2.normAngleHR - dtheta/2\n",
    "\n",
    "print(dtheta)\n",
    "\n",
    "beams = OBS2.hitFromHR(beam_to_OBS2)\n",
    "beam_dict['OBS1_to_OBS2'] = beams['input']\n"
   ]
  },
  {
   "cell_type": "markdown",
   "metadata": {},
   "source": [
    "### QPD1"
   ]
  },
  {
   "cell_type": "code",
   "execution_count": 22,
   "metadata": {},
   "outputs": [],
   "source": [
    "QPD1.HRcenter = [163.*mm, -23.*mm]\n",
    "QPD1.normAngleHR = deg2rad(173)\n",
    "\n",
    "beams = OBS2.hitFromHR(beam_to_OBS2)\n",
    "beam_dict['OBS2_s1'] = beams['s1']\n",
    "b = beams['t1']\n",
    "\n",
    "beams = QPD1.hitFromHR(b)\n",
    "QPD1.HRcenter = beams['r1'].pos\n",
    "\n",
    "beams = QPD1.hitFromHR(b)\n",
    "beam_dict['OBS2_to_QPD1'] = beams['input']\n",
    "beams['r1'].length = 0.3\n",
    "beam_dict['OBS2_r1'] = beams['r1']\n"
   ]
  },
  {
   "cell_type": "markdown",
   "metadata": {},
   "source": [
    "### QPD2"
   ]
  },
  {
   "cell_type": "code",
   "execution_count": 23,
   "metadata": {},
   "outputs": [],
   "source": [
    "QPD2.HRcenter = [177.*mm, -224.*mm]\n",
    "QPD2.normAngleHR = deg2rad(80.401494)\n",
    "\n",
    "beams = OBS2.hitFromHR(beam_to_OBS2)\n",
    "b = beams['r1']\n",
    "\n",
    "beams = QPSTM1.hitFromHR(b)\n",
    "beam_dict['OBS2_to_QPSTM1'] = beams['input']\n",
    "b = beams['r1']\n",
    "\n",
    "v1 = - beam_dict['OBS2_to_QPSTM1'].dirVect\n",
    "v2 = normalize(QPSTM2.HRcenter - b.pos)\n",
    "QPSTM1.normVectHR = (v1 + v2)/2\n",
    "\n",
    "beams = QPSTM1.hitFromHR(beam_dict['OBS2_to_QPSTM1'])\n",
    "beam_dict['OBS2_to_QPSTM1'] = beams['input']\n",
    "b = beams['r1']\n",
    "\n",
    "v1 = normalize(QPSTM1.HRcenter - QPSTM2.HRcenter)\n",
    "v2 = normalize(QPD2.HRcenter - QPSTM2.HRcenter)\n",
    "QPSTM2.normVectHR = (v1 + v2)/2\n",
    "\n",
    "beams = QPSTM2.hitFromHR(b)\n",
    "beam_dict['QPSTM1_to_QPSTM2'] = beams['input']\n",
    "b = beams['r1']\n",
    "\n",
    "beams = QPD2.hitFromHR(b)\n",
    "beam_dict['QPSTM2_to_QPD2'] = beams['input']\n",
    "beam_dict['QPD2_r1'] = beams['r1']\n"
   ]
  },
  {
   "cell_type": "markdown",
   "metadata": {},
   "source": [
    "## Output beam path"
   ]
  },
  {
   "cell_type": "markdown",
   "metadata": {},
   "source": [
    "### OBS3 and BD9/10"
   ]
  },
  {
   "cell_type": "code",
   "execution_count": 24,
   "metadata": {},
   "outputs": [],
   "source": [
    "OBS3.HRcenter = [32.*mm, -476*mm]\n",
    "OBS3.normAngleHR = deg2rad(44.4)\n",
    "\n",
    "OBS4.HRcenter = [127.*mm, -475.*mm]\n",
    "OBS4.normAngleHR = deg2rad(135.4)\n",
    "\n",
    "BD9.HRcenter = [113.*mm, -494.*mm]\n",
    "BD9.normAngleHR = deg2rad(-153)\n",
    "\n",
    "BD10.normVectHR = - BD9.normVectHR\n",
    "v = vector_rotation_2D(BD9.normVectHR, deg2rad(14))\n",
    "BD10.HRcenter = BD9.HRcenter + 6.5*mm*v\n",
    "BD10.rotate(deg2rad(28))\n",
    "\n",
    "beams = OMC2.hitFromHR(beam_dict['OMC1_to_OMC2'], order=3)\n",
    "\n",
    "beam_dict['OMC2_s1'] = beams['s1']\n",
    "beam_dict['OMC2_s2'] = beams['s2']\n",
    "beam_dict['OMC2_s3'] = beams['s3']\n",
    "\n",
    "b1 = beams['t1']\n",
    "b2 = beams['t2']\n",
    "\n",
    "beams = OBS3.hitFromHR(b1)\n",
    "br1 = beams['r1']\n",
    "\n",
    "beams = OBS3.hitFromHR(b2)\n",
    "br2 = beams['r1']\n",
    "\n",
    "OBS3.HRcenter = (br1.pos + br2.pos)/2\n",
    "\n",
    "beams = OBS3.hitFromHR(b2)\n",
    "beam_dict['OMC2_t2_to_OBS3'] = beams['input']\n",
    "br2 = beams['r1']\n",
    "\n",
    "beams = BD9.hitFromHR(br2)\n",
    "beam_dict['OBS3_to_BD9'] = beams['input']\n",
    "b = beams['r1']\n",
    "\n",
    "beams = BD10.hitFromHR(b)\n",
    "beam_dict['BD9_to_BD10'] = beams['input']\n",
    "b = beams['r1']\n",
    "\n",
    "beams = BD9.hitFromHR(b)\n",
    "beam_dict['BD10_to_BD9'] = beams['input']\n",
    "\n",
    "beams = OBS3.hitFromHR(b1)\n",
    "beam_dict['OMC2_to_OBS3'] = beams['input']\n",
    "beam_dict['OBS3_s1'] = beams['s1']\n",
    "beams['t1'].length = 0.2\n",
    "beam_dict['OBS3_t1'] = beams['t1']\n",
    "\n",
    "br1 = beams['r1']\n"
   ]
  },
  {
   "cell_type": "markdown",
   "metadata": {},
   "source": [
    "### OBS4 and BD5/6"
   ]
  },
  {
   "cell_type": "code",
   "execution_count": 25,
   "metadata": {},
   "outputs": [],
   "source": [
    "DCPD1.HRcenter = [126.5*mm, -273*mm]\n",
    "DCPD1.normAngleHR = deg2rad(-109)\n",
    "\n",
    "# Iteratively adjust the angle of OBS4\n",
    "for ii in range(6):\n",
    "    beams = OBS4.hitFromHR(br1)\n",
    "    b = beams['r1']\n",
    "    v1 = normalize(br1.pos - b.pos)\n",
    "    v2 = normalize(DCPD1.HRcenter - b.pos)\n",
    "    OBS4.normVectHR = (v1 + v2)/2\n",
    "\n",
    "beams = OBS4.hitFromHR(br1, order=3)\n",
    "beam_dict['OBS3_to_OBS4'] = beams['input']\n",
    "beam_dict['OBS4_s1'] = beams['s1']\n",
    "beam_dict['OBS4_s2'] = beams['s2']\n",
    "beam_dict['OBS4_s3'] = beams['s3']\n",
    "br1 = beams['r1']\n",
    "br2 = beams['r2']\n",
    "beam_dict['OBS4_t1'] = beams['t1']\n",
    "beam_dict['OBS4_t2'] = beams['t2']\n",
    "\n",
    "\n",
    "BD6.HRcenter = [149.*mm - 0.5*mm, -380.*mm]\n",
    "BD6.normAngleHR = deg2rad(160)\n",
    "\n",
    "BD5.normVectHR = - BD6.normVectHR\n",
    "v = vector_rotation_2D(BD6.normVectHR, deg2rad(-14))\n",
    "BD5.HRcenter = BD6.HRcenter + 6.5*mm*v\n",
    "BD5.rotate(deg2rad(-28))\n",
    "\n",
    "beams = BD5.hitFromHR(br2)\n",
    "beam_dict['OBS4_to_BD5'] = beams['input']\n",
    "b = beams['r1']\n",
    "\n",
    "beams = BD6.hitFromHR(b)\n",
    "beam_dict['BD5_to_BD6'] = beams['input']\n"
   ]
  },
  {
   "cell_type": "markdown",
   "metadata": {},
   "source": [
    "### DCPD1 and BD1/2"
   ]
  },
  {
   "cell_type": "code",
   "execution_count": 26,
   "metadata": {},
   "outputs": [
    {
     "data": {
      "text/plain": [
       "74.05460409907715"
      ]
     },
     "execution_count": 26,
     "metadata": {},
     "output_type": "execute_result"
    }
   ],
   "source": [
    "n = 3.5\n",
    "rad2deg(np.arctan(n))"
   ]
  },
  {
   "cell_type": "code",
   "execution_count": 27,
   "metadata": {},
   "outputs": [],
   "source": [
    "BD1.HRcenter = [96.*mm, -318.*mm]\n",
    "BD1.normAngleHR = deg2rad(-1)\n",
    "\n",
    "BD2.normVectHR = - BD1.normVectHR\n",
    "v = vector_rotation_2D(BD1.normVectHR, deg2rad(-14))\n",
    "BD2.HRcenter = BD1.HRcenter + 6.5*mm*v\n",
    "BD2.rotate(deg2rad(-28))\n",
    "\n",
    "\n",
    "beams = DCPD1.hitFromHR(br1)\n",
    "beam_dict['OBS4_to_DCPD1'] = beams['input']\n",
    "b = beams['r1']\n",
    "\n",
    "beams = BD1.hitFromHR(b)\n",
    "beam_dict['DCPD1_to_BD1'] = beams['input']\n",
    "b = beams['r1']\n",
    "\n",
    "beams = BD2.hitFromHR(b)\n",
    "beam_dict['BD1_to_BD2'] = beams['input']\n"
   ]
  },
  {
   "cell_type": "markdown",
   "metadata": {},
   "source": [
    "### OBS5 and BD7/8"
   ]
  },
  {
   "cell_type": "code",
   "execution_count": 28,
   "metadata": {},
   "outputs": [],
   "source": [
    "OBS5.HRcenter = [164.5*mm, -478.5*mm]\n",
    "OBS5.normAngleHR = deg2rad(136.)\n",
    "\n",
    "DCPD2.HRcenter = [163.*mm, -305.*mm]\n",
    "DCPD2.normAngleHR = deg2rad(-108.)\n",
    "\n",
    "BD7.HRcenter = [179.5*mm, -408.5*mm]\n",
    "BD7.normAngleHR = deg2rad(-48)\n",
    "\n",
    "BD8.normVectHR = - BD7.normVectHR\n",
    "v = vector_rotation_2D(BD7.normVectHR, deg2rad(14))\n",
    "BD8.HRcenter = BD7.HRcenter + 6.5*mm*v\n",
    "BD8.rotate(deg2rad(28))\n",
    "\n",
    "\n",
    "v1 = - beam_dict['OBS4_t1'].dirVect\n",
    "for ii in range(6):\n",
    "    beams = OBS5.hitFromHR(beam_dict['OBS4_t1'])\n",
    "    v2 = normalize(DCPD2.HRcenter - beams['r1'].pos)\n",
    "    OBS5.normVectHR = (v1 + v2)/2\n",
    "\n",
    "beams = OBS5.hitFromHR(beam_dict['OBS4_t1'])\n",
    "beam_dict['OBS4_to_OBS5'] = beams['input']\n",
    "beam_dict['OBS5_s1'] = beams['s1']\n",
    "beams['t1'].length = 0.2\n",
    "beam_dict['OBS5_t1'] = beams['t1']\n",
    "br1 = beams['r1']\n",
    "\n",
    "# BD7 path\n",
    "beams = OBS5.hitFromHR(beam_dict['OBS4_t2'])\n",
    "beam_dict['OBS4_t2_to_OBS5'] = beams['input']\n",
    "br2 = beams['r1']\n",
    "\n",
    "beams = BD7.hitFromHR(br2)\n",
    "beam_dict['OBS5_to_BD7'] = beams['input']\n",
    "b = beams['r1']\n",
    "\n",
    "beams = BD8.hitFromHR(b)\n",
    "beam_dict['BD7_to_BD8'] = beams['input']"
   ]
  },
  {
   "cell_type": "markdown",
   "metadata": {},
   "source": [
    "### DCPD2 and BD3/4"
   ]
  },
  {
   "cell_type": "code",
   "execution_count": 29,
   "metadata": {},
   "outputs": [],
   "source": [
    "BD3.HRcenter = [99.5*mm, -400.*mm]\n",
    "BD3.normAngleHR = deg2rad(-1)\n",
    "\n",
    "BD4.normVectHR = - BD3.normVectHR\n",
    "v = vector_rotation_2D(BD3.normVectHR, deg2rad(-14))\n",
    "BD4.HRcenter = BD3.HRcenter + 6.5*mm*v\n",
    "BD4.rotate(deg2rad(-28))\n",
    "\n",
    "beams = DCPD2.hitFromHR(br1)\n",
    "beam_dict['OBS5_to_DCPD2'] = beams['input']\n",
    "b = beams['r1']\n",
    "\n",
    "beams = BD3.hitFromHR(b)\n",
    "beam_dict['DCPD2_to_BD3'] = beams['input']\n",
    "b = beams['r1']\n",
    "\n",
    "beams = BD4.hitFromHR(b)\n",
    "beam_dict['BD3_to_BD4'] = beams['input']"
   ]
  },
  {
   "cell_type": "code",
   "execution_count": 30,
   "metadata": {},
   "outputs": [],
   "source": [
    "# beam_dict"
   ]
  },
  {
   "cell_type": "markdown",
   "metadata": {},
   "source": [
    "# Save mirrors and beams"
   ]
  },
  {
   "cell_type": "code",
   "execution_count": 32,
   "metadata": {},
   "outputs": [],
   "source": [
    "opticsList = [OMC1, OMC2, OMC3, OMC4, OBS1, OBS2, OBS3, OBS4, OBS5, QPSTM1, QPSTM2, DCPD1,\n",
    "             DCPD2, QPD1, QPD2, BD1, BD2, BD3, BD4, BD5, BD6, BD7, BD8, BD9, BD10]\n",
    "             \n",
    "with open('KAGRA_OMC.pkl', 'wb') as f:\n",
    "    _pickle.dump({'opticsList': opticsList, \n",
    "                  'beamDict': beam_dict},f)"
   ]
  },
  {
   "cell_type": "markdown",
   "metadata": {},
   "source": [
    "# Draw optical layout"
   ]
  },
  {
   "cell_type": "code",
   "execution_count": 32,
   "metadata": {},
   "outputs": [],
   "source": [
    "beamList = list(beam_dict.values())\n",
    "# auxBeamList = list(auxBeamDict.values())\n",
    "\n",
    "# tools.transAll(beamList, -OMC1.HRcenter)\n",
    "# tools.transAll(auxBeamList, -OMC1.HRcenter)\n",
    "# tools.transAll([OMC1, OMC2, OMC3, OMC4, OBS1, OBS3], -OMC1.HRcenter)\n",
    "\n",
    "cnv = draw.Canvas()\n",
    "cnv.add_layer(\"main_beam_x\", color=(0,0,0))\n",
    "cnv.add_layer(\"main_beam_x_width\", color=(0,0,1))\n",
    "cnv.add_layer(\"main_beam_y\", color=(0,0,0))\n",
    "cnv.add_layer(\"main_beam_y_width\", color=(1,0,0))\n",
    "\n",
    "#Draw the mirror\n",
    "OMC1.draw(cnv, drawName=True)\n",
    "OMC2.draw(cnv, drawName=True)\n",
    "OMC3.draw(cnv, drawName=True)\n",
    "OMC4.draw(cnv, drawName=True)\n",
    "OBS1.draw(cnv, drawName=True)\n",
    "OBS2.draw(cnv, drawName=True)\n",
    "OBS3.draw(cnv, drawName=True)\n",
    "OBS4.draw(cnv, drawName=True)\n",
    "OBS5.draw(cnv, drawName=True)\n",
    "QPSTM1.draw(cnv, drawName=True)\n",
    "QPSTM2.draw(cnv, drawName=True)\n",
    "DCPD1.draw(cnv, drawName=True)\n",
    "DCPD2.draw(cnv, drawName=True)\n",
    "QPD1.draw(cnv, drawName=True)\n",
    "QPD2.draw(cnv, drawName=True)\n",
    "\n",
    "BD1.draw(cnv, drawName=True)\n",
    "BD2.draw(cnv, drawName=True)\n",
    "BD3.draw(cnv, drawName=True)\n",
    "BD4.draw(cnv, drawName=True)\n",
    "BD5.draw(cnv, drawName=True)\n",
    "BD6.draw(cnv, drawName=True)\n",
    "BD7.draw(cnv, drawName=True)\n",
    "BD8.draw(cnv, drawName=True)\n",
    "BD9.draw(cnv, drawName=True)\n",
    "BD10.draw(cnv, drawName=True)\n",
    "\n",
    "#Draw beams\n",
    "gtrace.draw.tools.drawAllBeams(cnv, beamList, drawWidth=True, sigma=3.0,  mode='x', layer='main_beam_x')\n",
    "\n",
    "# Draw Bread Board\n",
    "cnv.add_shape(draw.Rectangle(point=[0.0, -500*mm], width=200*mm, height=500*mm), layername='Bread Board')\n",
    "\n",
    "\n",
    "#Save the result as a DXF file\n",
    "renderer.renderDXF(cnv, 'OMC_Layout_O4.dxf')"
   ]
  },
  {
   "cell_type": "markdown",
   "metadata": {},
   "source": [
    "# Non-sequential trace"
   ]
  },
  {
   "cell_type": "code",
   "execution_count": 33,
   "metadata": {},
   "outputs": [],
   "source": [
    "\n",
    "\n",
    "input_beam = beam_dict['Input_to_OMC_BB'].copy()\n",
    "input_beam.P = 1\n",
    "# OMC1.HRtransmissive = False\n",
    "OMC1.Trans_HR = 0.0\n",
    "beams1 = non_seq_trace(opticsList, src_beam=input_beam, power_threshold=1.0/10000)\n",
    "\n",
    "input_beam = beam_dict['OMC1_to_OMC2'].copy()\n",
    "input_beam.P = 250\n",
    "OMC1.Refl_HR = 0.0\n",
    "OMC1.HRtransmissive = False\n",
    "\n",
    "beams2 = non_seq_trace(opticsList, src_beam=input_beam, power_threshold=1.0/10000)\n",
    "\n"
   ]
  },
  {
   "cell_type": "code",
   "execution_count": 34,
   "metadata": {},
   "outputs": [],
   "source": [
    "beamList = beams1 + beams2\n",
    "\n",
    "cnv = draw.Canvas()\n",
    "cnv.add_layer(\"main_beam_x\", color=(0,0,0))\n",
    "cnv.add_layer(\"main_beam_x_width\", color=(0,0,1))\n",
    "cnv.add_layer(\"main_beam_y\", color=(0,0,0))\n",
    "cnv.add_layer(\"main_beam_y_width\", color=(1,0,0))\n",
    "\n",
    "#Draw the mirror\n",
    "OMC1.draw(cnv, drawName=True)\n",
    "OMC2.draw(cnv, drawName=True)\n",
    "OMC3.draw(cnv, drawName=True)\n",
    "OMC4.draw(cnv, drawName=True)\n",
    "OBS1.draw(cnv, drawName=True)\n",
    "OBS2.draw(cnv, drawName=True)\n",
    "OBS3.draw(cnv, drawName=True)\n",
    "OBS4.draw(cnv, drawName=True)\n",
    "OBS5.draw(cnv, drawName=True)\n",
    "QPSTM1.draw(cnv, drawName=True)\n",
    "QPSTM2.draw(cnv, drawName=True)\n",
    "DCPD1.draw(cnv, drawName=True)\n",
    "DCPD2.draw(cnv, drawName=True)\n",
    "QPD1.draw(cnv, drawName=True)\n",
    "QPD2.draw(cnv, drawName=True)\n",
    "\n",
    "BD1.draw(cnv, drawName=True)\n",
    "BD2.draw(cnv, drawName=True)\n",
    "BD3.draw(cnv, drawName=True)\n",
    "BD4.draw(cnv, drawName=True)\n",
    "BD5.draw(cnv, drawName=True)\n",
    "BD6.draw(cnv, drawName=True)\n",
    "BD7.draw(cnv, drawName=True)\n",
    "BD8.draw(cnv, drawName=True)\n",
    "BD9.draw(cnv, drawName=True)\n",
    "BD10.draw(cnv, drawName=True)\n",
    "\n",
    "#Draw beams\n",
    "gtrace.draw.tools.drawAllBeams(cnv, beamList, drawWidth=True, sigma=3.0,  mode='x', layer='main_beam_x', \n",
    "                               drawPower=True, fontSize=0.002)\n",
    "gtrace.draw.tools.drawAllBeams(cnv, beamList, drawWidth=True, sigma=3.0,  mode='y', layer='main_beam_y')\n",
    "\n",
    "# Draw Bread Board\n",
    "cnv.add_shape(draw.Rectangle(point=[0.0, -500*mm], width=200*mm, height=500*mm), layername='Bread Board')\n",
    "\n",
    "#Save the result as a DXF file\n",
    "renderer.renderDXF(cnv, 'OMC_non_sq_trace_O4.dxf')"
   ]
  },
  {
   "cell_type": "markdown",
   "metadata": {},
   "source": [
    "# List of mirrors and beams"
   ]
  },
  {
   "cell_type": "markdown",
   "metadata": {},
   "source": [
    "## Optics List"
   ]
  },
  {
   "cell_type": "code",
   "execution_count": 35,
   "metadata": {},
   "outputs": [],
   "source": [
    "with open('OpticsList.csv', mode='w') as f:\n",
    "    f.write('OpticsName, Center coordinate, Normal Vector\\n\\n')\n",
    "    for optic in opticsList:\n",
    "        line = '{}, {}, {}\\n'.format(optic.name, optic.HRcenter, optic.normVectHR)\n",
    "        f.write(line)"
   ]
  },
  {
   "cell_type": "markdown",
   "metadata": {},
   "source": [
    "## Main beam list"
   ]
  },
  {
   "cell_type": "code",
   "execution_count": 36,
   "metadata": {},
   "outputs": [],
   "source": [
    "with open('MainBeamList.csv', mode='w') as f:\n",
    "    f.write('Beam Name, Starting Point, Direction Vector, q-parameter in x, q-parameter in y\\n\\n')\n",
    "    for name in list(beam_dict.keys()):\n",
    "        b = beam_dict[name]\n",
    "        line = '{}, {}, {}, {}, {}\\n'.format(name, b.pos, b.dirVect, b.qx, b.qy)\n",
    "        f.write(line)\n",
    "    # for name in list(auxBeamDict.keys()):\n",
    "    #     b = auxBeamDict[name]\n",
    "    #     line = '{}, {}, {}, {}, {}\\n'.format(name, b.pos, b.dirVect, b.qx, b.qy)\n",
    "    #     f.write(line)        "
   ]
  },
  {
   "cell_type": "markdown",
   "metadata": {
    "toc-hr-collapsed": false
   },
   "source": [
    "## Stray beam list"
   ]
  },
  {
   "cell_type": "code",
   "execution_count": 783,
   "metadata": {},
   "outputs": [],
   "source": [
    "with open('StrayBeamList.csv', mode='w') as f:\n",
    "    f.write('Starting Point, Direction Vector, Power, q-parameter in x, q-parameter in y\\n\\n')\n",
    "    for b in beamList:\n",
    "        line = '{}, {}, {}, {}, {}\\n'.format(b.pos, b.dirVect, b.P, b.qx, b.qy)\n",
    "        f.write(line)"
   ]
  },
  {
   "cell_type": "code",
   "execution_count": 784,
   "metadata": {},
   "outputs": [
    {
     "data": {
      "text/plain": [
       "57"
      ]
     },
     "execution_count": 784,
     "metadata": {},
     "output_type": "execute_result"
    }
   ],
   "source": [
    "len(beamList)"
   ]
  },
  {
   "cell_type": "markdown",
   "metadata": {},
   "source": [
    "# Checking Wedge Angle"
   ]
  },
  {
   "cell_type": "code",
   "execution_count": 60,
   "metadata": {
    "jupyter": {
     "source_hidden": true
    }
   },
   "outputs": [
    {
     "name": "stdout",
     "output_type": "stream",
     "text": [
      "AR spot = 34.69902260547455mm, HR spot = -15.670426554871094mm\n",
      "Beam separation = 50.369449160345646mm\n"
     ]
    }
   ],
   "source": [
    "#Put OMC1 at the origin\n",
    "\n",
    "OMC1 = opt.Mirror(HRcenter=[0,0], normAngleHR=0.0,\n",
    "                 diameter=12.7*mm, thickness=6.35*mm,\n",
    "                 wedgeAngle=deg2rad(1), inv_ROC_HR=0.,\n",
    "                 inv_ROC_AR=0.,\n",
    "                 Refl_HR=OMC1_HR_Refl, Trans_HR=1-OMC1_HR_Refl,\n",
    "                 Refl_AR=0.1*percent, Trans_AR=1-0.1*percent,\n",
    "                 n=nsilica, name='OMC1', HRtransmissive=True)\n",
    "\n",
    "OMC1.HRcenter = [0,0]\n",
    "#Face up\n",
    "OMC1.normAngleHR = deg2rad(90)\n",
    "\n",
    "#Laser source\n",
    "q0 = gauss.Rw2q(np.inf, 1*mm)\n",
    "b = beam.GaussianBeam(q0=q0, wl=1064*nm)\n",
    "b.pos = [0, -1]\n",
    "b.dirVect = [0, 1]\n",
    "\n",
    "#Screen\n",
    "SC = opt.Mirror(HRcenter=[0,-1], normVectHR=[0,1],\n",
    "                 diameter=1000*mm, thickness=10*mm,\n",
    "                 wedgeAngle=deg2rad(0), inv_ROC_HR=0.,\n",
    "                 inv_ROC_AR=0.,\n",
    "                 Refl_HR=1, Trans_HR=0,\n",
    "                 Refl_AR=0.2*percent, Trans_AR=1-0.2*percent,\n",
    "                 n=nsilica, name='Screen', HRtransmissive=True)\n",
    "\n",
    "\n",
    "beams = OMC1.hitFromAR(b, order=1)\n",
    "r1 = beams['r1']\n",
    "r2 = beams['r2']\n",
    "\n",
    "beams = SC.hitFromHR(r1)\n",
    "bAR = beams['r1']\n",
    "\n",
    "beams = SC.hitFromHR(r2)\n",
    "bHR = beams['r1']\n",
    "\n",
    "print('AR spot = {}mm, HR spot = {}mm'.format(bAR.pos[0]/mm, bHR.pos[0]/mm))\n",
    "print('Beam separation = {}mm'.format((bAR.pos[0] - bHR.pos[0])/mm))\n"
   ]
  }
 ],
 "metadata": {
  "kernelspec": {
   "display_name": "Python 3.8.5 ('base')",
   "language": "python",
   "name": "python3"
  },
  "language_info": {
   "codemirror_mode": {
    "name": "ipython",
    "version": 3
   },
   "file_extension": ".py",
   "mimetype": "text/x-python",
   "name": "python",
   "nbconvert_exporter": "python",
   "pygments_lexer": "ipython3",
   "version": "3.8.5"
  },
  "toc": {
   "base_numbering": 1,
   "nav_menu": {},
   "number_sections": true,
   "sideBar": true,
   "skip_h1_title": false,
   "title_cell": "Table of Contents",
   "title_sidebar": "Contents",
   "toc_cell": false,
   "toc_position": {},
   "toc_section_display": true,
   "toc_window_display": true
  },
  "vscode": {
   "interpreter": {
    "hash": "a5878dd3657355d959a0c75469be85c6189866bab846d28982f2efe2be3392c8"
   }
  }
 },
 "nbformat": 4,
 "nbformat_minor": 4
}
