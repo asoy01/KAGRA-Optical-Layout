{
 "cells": [
  {
   "cell_type": "markdown",
   "id": "enclosed-workshop",
   "metadata": {},
   "source": [
    "# Parameters for KAGRA optical layout"
   ]
  },
  {
   "cell_type": "markdown",
   "id": "returning-kingdom",
   "metadata": {},
   "source": [
    "## Import modules"
   ]
  },
  {
   "cell_type": "code",
   "execution_count": 2,
   "id": "solid-disposal",
   "metadata": {},
   "outputs": [],
   "source": [
    "from gtrace.unit import *"
   ]
  },
  {
   "cell_type": "markdown",
   "id": "norwegian-startup",
   "metadata": {},
   "source": [
    "## Wedge Angles"
   ]
  },
  {
   "cell_type": "code",
   "execution_count": 3,
   "id": "elder-nigeria",
   "metadata": {},
   "outputs": [],
   "source": [
    "BSWedge = -deg2rad(0.08)\n",
    "ITMXWedge = -deg2rad(0.025)\n",
    "\n",
    "ITMYWedge = ITMXWedge\n",
    "\n",
    "ETMXWedge = deg2rad(0.05)\n",
    "ETMYWedge = -deg2rad(0.05)\n",
    "\n",
    "PRWedge = deg2rad(2.0)\n",
    "SRWedge = deg2rad(2.0)\n",
    "PRMWedge = deg2rad(2.0)\n",
    "SRMWedge = -deg2rad(2.0)  #Note that this is opposite sign from the original design, as built value.\n"
   ]
  },
  {
   "cell_type": "markdown",
   "id": "respiratory-unknown",
   "metadata": {},
   "source": [
    "## Mirror dimensions"
   ]
  },
  {
   "cell_type": "code",
   "execution_count": 4,
   "id": "prime-papua",
   "metadata": {},
   "outputs": [],
   "source": [
    "\n",
    "BS_BeamSize = 3.5*cm\n",
    "ITM_DIA = 22*cm\n",
    "ETM_DIA = 22*cm\n",
    "BS_Thickness = 8*cm\n"
   ]
  },
  {
   "cell_type": "markdown",
   "id": "expected-tanzania",
   "metadata": {},
   "source": [
    "## Length"
   ]
  },
  {
   "cell_type": "code",
   "execution_count": 5,
   "id": "limiting-integer",
   "metadata": {},
   "outputs": [],
   "source": [
    "#Basic lengths\n",
    "Larm = 3000.\n",
    "Lprc = 66.591327988354962\n",
    "Las = 3.329850847567223\n",
    "Lsrc = 66.591327988354962\n",
    "L_MIavg = 25.0\n",
    "Lmc = 26.638806780537788\n",
    "\n",
    "#PRC\n",
    "\n",
    "#Distance between the PRM and PR3 required by Vacuum\n",
    "D_PRM_PR3 = 2.7+1.0\n",
    "\n",
    "#Distance between the BS and PR2 required by Vacuum\n",
    "D_BS_PR2 = 2.7+2.0\n",
    "\n",
    "#In the folding part, beams pass by the sides of the folding mirrors\n",
    "#The separation between the beams and the mirrors should be\n",
    "#large enough to avoid clipping.\n",
    "#(Mirror Dia.)/2+4*sigma\n",
    "\n",
    "#Distance between the PR3 edge and the beam from PRM to PR2\n",
    "BeamDist1 = 25./2*cm+20*5*mm\n",
    "\n",
    "#Distance between the PR2 edge and the beam from PR3 to BS\n",
    "BeamDist2 = 25./2*cm+4*BS_BeamSize\n",
    "\n",
    "#Length of the folding part\n",
    "Lfld = (Lprc - L_MIavg - D_BS_PR2 - D_PRM_PR3)/3\n",
    "\n",
    "#Folding angle (the incident angle to the folding mirror)\n",
    "foldingAngle1 = np.arctan(BeamDist1/Lfld)/2  #For PR2/SR2\n",
    "foldingAngle2 = np.arctan(BeamDist2/Lfld)/2  #For PR3/SR3\n",
    "\n",
    "\n",
    "L_PR3_BS = Lfld + D_BS_PR2\n",
    "L_PR2_PR3 = Lfld/np.cos(2*foldingAngle1)\n",
    "L_PRM_PR2 = Lprc - L_MIavg - L_PR2_PR3 - L_PR3_BS\n",
    "\n",
    "#MICH\n",
    "L_BS_ITMX = L_MIavg + Las/2\n",
    "L_BS_ITMY = L_MIavg - Las/2\n",
    "\n",
    "L_PRC_X = L_PRM_PR2 + L_PR2_PR3 + L_PR3_BS + L_BS_ITMX\n",
    "L_PRC_Y = L_PRM_PR2 + L_PR2_PR3 + L_PR3_BS + L_BS_ITMY\n",
    "\n",
    "#SRC\n",
    "L_SR3_BS = Lfld + D_BS_PR2\n",
    "L_SR2_SR3 = Lfld/np.cos(2*foldingAngle1)\n",
    "L_SRM_SR2 = Lsrc - L_MIavg - L_SR2_SR3 - L_SR3_BS\n"
   ]
  },
  {
   "cell_type": "markdown",
   "id": "activated-first",
   "metadata": {},
   "source": [
    "## ROC"
   ]
  },
  {
   "cell_type": "code",
   "execution_count": 6,
   "id": "fifty-double",
   "metadata": {},
   "outputs": [],
   "source": [
    "\n",
    "ITM_ROC = 1900*m\n",
    "ETM_ROC = 1900*m\n",
    "\n",
    "#These ROCs are not final values. Just starting points for optimization.\n",
    "PRM_ROC = 460*m\n",
    "PR2_ROC = -3.0\n",
    "PR3_ROC = 25.0\n",
    "SRM_ROC = 460*m\n",
    "SR2_ROC = -3.0\n",
    "SR3_ROC = 25.0   \n"
   ]
  },
  {
   "cell_type": "markdown",
   "id": "elegant-vatican",
   "metadata": {},
   "source": [
    "## Index of refraction"
   ]
  },
  {
   "cell_type": "code",
   "execution_count": 7,
   "id": "breathing-berlin",
   "metadata": {},
   "outputs": [],
   "source": [
    "nsilica = 1.44967\n",
    "nsilica_green = 1.46071\n",
    "nsaph = 1.754\n",
    "#nsaph = 1.747\n",
    "nsaph_green = 1.7717\n",
    "n_BK7 = 1.507"
   ]
  },
  {
   "cell_type": "code",
   "execution_count": null,
   "id": "ecological-conservation",
   "metadata": {},
   "outputs": [],
   "source": []
  }
 ],
 "metadata": {
  "kernelspec": {
   "display_name": "Python 3.8.5 ('base')",
   "language": "python",
   "name": "python3"
  },
  "language_info": {
   "codemirror_mode": {
    "name": "ipython",
    "version": 3
   },
   "file_extension": ".py",
   "mimetype": "text/x-python",
   "name": "python",
   "nbconvert_exporter": "python",
   "pygments_lexer": "ipython3",
   "version": "3.8.5"
  },
  "vscode": {
   "interpreter": {
    "hash": "a5878dd3657355d959a0c75469be85c6189866bab846d28982f2efe2be3392c8"
   }
  }
 },
 "nbformat": 4,
 "nbformat_minor": 5
}
