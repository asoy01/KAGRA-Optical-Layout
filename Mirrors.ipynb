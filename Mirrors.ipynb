{
 "cells": [
  {
   "cell_type": "markdown",
   "id": "static-final",
   "metadata": {},
   "source": [
    "# Define mirrors for KAGRA MIF optical layout"
   ]
  },
  {
   "cell_type": "markdown",
   "id": "specified-colors",
   "metadata": {},
   "source": [
    "## Import modules"
   ]
  },
  {
   "cell_type": "code",
   "execution_count": 3,
   "id": "smooth-boulder",
   "metadata": {},
   "outputs": [],
   "source": [
    "import gtrace.optcomp as opt\n",
    "from gtrace.unit import *"
   ]
  },
  {
   "cell_type": "markdown",
   "id": "understood-midwest",
   "metadata": {},
   "source": [
    "## Define mirrors"
   ]
  },
  {
   "cell_type": "code",
   "execution_count": 5,
   "id": "ongoing-agriculture",
   "metadata": {},
   "outputs": [
    {
     "ename": "NameError",
     "evalue": "name 'PRMWedge' is not defined",
     "output_type": "error",
     "traceback": [
      "\u001b[1;31m---------------------------------------------------------------------------\u001b[0m",
      "\u001b[1;31mNameError\u001b[0m                                 Traceback (most recent call last)",
      "\u001b[1;32m<ipython-input-5-78bc1edb8a51>\u001b[0m in \u001b[0;36m<module>\u001b[1;34m\u001b[0m\n\u001b[0;32m      1\u001b[0m PRM = opt.Mirror(HRcenter=[0,0], normAngleHR=0.0,\n\u001b[0;32m      2\u001b[0m                  \u001b[0mdiameter\u001b[0m\u001b[1;33m=\u001b[0m\u001b[1;36m25\u001b[0m\u001b[1;33m*\u001b[0m\u001b[0mcm\u001b[0m\u001b[1;33m,\u001b[0m \u001b[0mthickness\u001b[0m\u001b[1;33m=\u001b[0m\u001b[1;36m10\u001b[0m\u001b[1;33m*\u001b[0m\u001b[0mcm\u001b[0m\u001b[1;33m,\u001b[0m\u001b[1;33m\u001b[0m\u001b[1;33m\u001b[0m\u001b[0m\n\u001b[1;32m----> 3\u001b[1;33m                  \u001b[0mwedgeAngle\u001b[0m\u001b[1;33m=\u001b[0m\u001b[0mPRMWedge\u001b[0m\u001b[1;33m,\u001b[0m \u001b[0minv_ROC_HR\u001b[0m\u001b[1;33m=\u001b[0m\u001b[1;36m1.\u001b[0m\u001b[1;33m/\u001b[0m\u001b[0mPRM_ROC\u001b[0m\u001b[1;33m,\u001b[0m\u001b[1;33m\u001b[0m\u001b[1;33m\u001b[0m\u001b[0m\n\u001b[0m\u001b[0;32m      4\u001b[0m                  \u001b[0minv_ROC_AR\u001b[0m\u001b[1;33m=\u001b[0m\u001b[1;36m0\u001b[0m\u001b[1;33m,\u001b[0m\u001b[1;33m\u001b[0m\u001b[1;33m\u001b[0m\u001b[0m\n\u001b[0;32m      5\u001b[0m                  \u001b[0mRefl_HR\u001b[0m\u001b[1;33m=\u001b[0m\u001b[1;36m0.9\u001b[0m\u001b[1;33m,\u001b[0m \u001b[0mTrans_HR\u001b[0m\u001b[1;33m=\u001b[0m\u001b[1;36m1\u001b[0m\u001b[1;33m-\u001b[0m\u001b[1;36m0.9\u001b[0m\u001b[1;33m,\u001b[0m\u001b[1;33m\u001b[0m\u001b[1;33m\u001b[0m\u001b[0m\n",
      "\u001b[1;31mNameError\u001b[0m: name 'PRMWedge' is not defined"
     ]
    }
   ],
   "source": [
    "PRM = opt.Mirror(HRcenter=[0,0], normAngleHR=0.0,\n",
    "                 diameter=25*cm, thickness=10*cm,\n",
    "                 wedgeAngle=PRMWedge, inv_ROC_HR=1./PRM_ROC,\n",
    "                 inv_ROC_AR=0,\n",
    "                 Refl_HR=0.9, Trans_HR=1-0.9,\n",
    "                 Refl_AR=500*ppm, Trans_AR=1-500*ppm,\n",
    "                 n=nsilica, name='PRM', HRtransmissive=True)\n",
    "\n",
    "PR2 = opt.Mirror(HRcenter=[0,0], normAngleHR=0.0,\n",
    "                 diameter=25*cm, thickness=10*cm,\n",
    "                 wedgeAngle=PRWedge, inv_ROC_HR=1./PR2_ROC,\n",
    "                 Refl_HR=1-500*ppm, Trans_HR=500*ppm,\n",
    "                 Refl_AR=500*ppm, Trans_AR=1-500*ppm,\n",
    "                 n=nsilica, name='PR2')\n",
    "\n",
    "PR3 = opt.Mirror(HRcenter=[0,0], normAngleHR=0.0,\n",
    "                 diameter=25*cm, thickness=10*cm,\n",
    "                 wedgeAngle=PRWedge, inv_ROC_HR=1./PR3_ROC,\n",
    "                 Refl_HR=1-100*ppm, Trans_HR=100*ppm,\n",
    "                 Refl_AR=500*ppm, Trans_AR=1-500*ppm,\n",
    "                 n=nsilica, name='PR3')\n",
    "\n",
    "BS = opt.Mirror(HRcenter=[0,0], normAngleHR=0.0,\n",
    "                 diameter=38*cm, thickness=BS_Thickness,\n",
    "                 wedgeAngle=BSWedge, inv_ROC_HR=0.,\n",
    "                 Refl_HR=0.5, Trans_HR=0.5,\n",
    "                 Refl_AR=100*ppm, Trans_AR=1-100*ppm,\n",
    "                 n=nsilica, name='BS', HRtransmissive=True)\n",
    "\n",
    "ITMX = opt.Mirror(HRcenter=[0,0], normAngleHR=0.0,\n",
    "                 diameter=ITM_DIA, thickness=15*cm,\n",
    "                 wedgeAngle=ITMXWedge, inv_ROC_HR=1./ITM_ROC,\n",
    "                 Refl_HR=0.996, Trans_HR=1-0.996,\n",
    "                 Refl_AR=500*ppm, Trans_AR=1-500*ppm,\n",
    "                 n=nsaph, name='ITMX', HRtransmissive=True)\n",
    "\n",
    "ITMY = opt.Mirror(HRcenter=[0,0], normAngleHR=0.0,\n",
    "                 diameter=ITM_DIA, thickness=15*cm,\n",
    "                 wedgeAngle=ITMYWedge, inv_ROC_HR=1./ITM_ROC,\n",
    "                 Refl_HR=0.996, Trans_HR=1-0.996,\n",
    "                 Refl_AR=500*ppm, Trans_AR=1-500*ppm,\n",
    "                 n=nsaph, name='ITMY', HRtransmissive=True)\n",
    "\n",
    "SRM = opt.Mirror(HRcenter=[0,0], normAngleHR=0.0,\n",
    "                 diameter=25*cm, thickness=10*cm,\n",
    "                 wedgeAngle=SRMWedge, inv_ROC_HR=1./SRM_ROC,\n",
    "                 inv_ROC_AR=0,\n",
    "                 Refl_HR=1-0.1536, Trans_HR=0.1536,\n",
    "                 Refl_AR=500*ppm, Trans_AR=1-500*ppm,\n",
    "                 n=nsilica, name='SRM', HRtransmissive=True)\n",
    "\n",
    "SR2= opt.Mirror(HRcenter=[0,0], normAngleHR=0.0,\n",
    "                 diameter=25*cm, thickness=10*cm,\n",
    "                 wedgeAngle=SRWedge, inv_ROC_HR=1./SR2_ROC,\n",
    "                 Refl_HR=1-500*ppm, Trans_HR=500*ppm,\n",
    "                 Refl_AR=500*ppm, Trans_AR=1-500*ppm,\n",
    "                 n=nsilica, name='SR2')\n",
    "\n",
    "SR3 = opt.Mirror(HRcenter=[0,0], normAngleHR=0.0,\n",
    "                 diameter=25*cm, thickness=10*cm,\n",
    "                 wedgeAngle=SRWedge, inv_ROC_HR=1./SR3_ROC,\n",
    "                 Refl_HR=1-100*ppm, Trans_HR=100*ppm,\n",
    "                 Refl_AR=500*ppm, Trans_AR=1-500*ppm,\n",
    "                 n=nsilica, name='SR3')\n",
    "\n",
    "ETMX = opt.Mirror(HRcenter=[0,0], normAngleHR=0.0,\n",
    "                 diameter=ETM_DIA, thickness=15*cm,\n",
    "                 wedgeAngle=ETMXWedge, inv_ROC_HR=1./ETM_ROC,\n",
    "                 #Refl_HR=1-55*ppm, Trans_HR=55*ppm,\n",
    "                  Refl_HR=0.01, Trans_HR=1-0.01,\n",
    "                 Refl_AR=500*ppm, Trans_AR=1-500*ppm,\n",
    "                 n=nsaph, name='ETMX')\n",
    "\n",
    "ETMY = opt.Mirror(HRcenter=[0,0], normAngleHR=0.0,\n",
    "                 diameter=ETM_DIA, thickness=15*cm,\n",
    "                 wedgeAngle=ETMYWedge, inv_ROC_HR=1./ETM_ROC,\n",
    "                 #Refl_HR=1-55*ppm, Trans_HR=55*ppm,\n",
    "                  Refl_HR=0.01, Trans_HR=1-0.01,\n",
    "                 Refl_AR=500*ppm, Trans_AR=1-500*ppm,\n",
    "                 n=nsaph, name='ETMY')"
   ]
  },
  {
   "cell_type": "markdown",
   "id": "environmental-advantage",
   "metadata": {},
   "source": [
    "### Dictionary to keep all the mirror objects"
   ]
  },
  {
   "cell_type": "code",
   "execution_count": null,
   "id": "acute-upgrade",
   "metadata": {},
   "outputs": [],
   "source": [
    "opticsDict = {'PRM':PRM, 'PR2':PR2, 'PR3':PR3, 'BS':BS, 'ITMX':ITMX,\n",
    "              'ITMY':ITMY, 'SR3':SR3, 'SR2':SR2, 'SRM':SRM, 'ETMX':ETMX, 'ETMY':ETMY}"
   ]
  }
 ],
 "metadata": {
  "kernelspec": {
   "display_name": "Python 3",
   "language": "python",
   "name": "python3"
  },
  "language_info": {
   "codemirror_mode": {
    "name": "ipython",
    "version": 3
   },
   "file_extension": ".py",
   "mimetype": "text/x-python",
   "name": "python",
   "nbconvert_exporter": "python",
   "pygments_lexer": "ipython3",
   "version": "3.8.5"
  }
 },
 "nbformat": 4,
 "nbformat_minor": 5
}
